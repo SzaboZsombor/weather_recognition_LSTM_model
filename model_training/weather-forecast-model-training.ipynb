{
 "cells": [
  {
   "cell_type": "code",
   "execution_count": 1,
   "id": "ba6dc718",
   "metadata": {
    "execution": {
     "iopub.execute_input": "2024-09-18T18:28:14.591684Z",
     "iopub.status.busy": "2024-09-18T18:28:14.591308Z",
     "iopub.status.idle": "2024-09-18T18:28:19.880323Z",
     "shell.execute_reply": "2024-09-18T18:28:19.879355Z"
    },
    "id": "fNl9VkwU4iAY",
    "papermill": {
     "duration": 5.300546,
     "end_time": "2024-09-18T18:28:19.882783",
     "exception": false,
     "start_time": "2024-09-18T18:28:14.582237",
     "status": "completed"
    },
    "tags": []
   },
   "outputs": [],
   "source": [
    "import matplotlib.pyplot as plt\n",
    "import pandas as pd\n",
    "from sklearn.preprocessing import MinMaxScaler\n",
    "import numpy as np\n",
    "import torch\n",
    "import torch.nn as nn\n",
    "from torch.utils.data import Dataset, DataLoader\n",
    "import torch.optim as optim\n",
    "import os\n",
    "import pandas as pd\n",
    "import matplotlib.pyplot as plt"
   ]
  },
  {
   "cell_type": "code",
   "execution_count": 2,
   "id": "f34b9d49",
   "metadata": {
    "execution": {
     "iopub.execute_input": "2024-09-18T18:28:19.898370Z",
     "iopub.status.busy": "2024-09-18T18:28:19.897827Z",
     "iopub.status.idle": "2024-09-18T18:28:19.986283Z",
     "shell.execute_reply": "2024-09-18T18:28:19.985148Z"
    },
    "executionInfo": {
     "elapsed": 364,
     "status": "ok",
     "timestamp": 1725100048383,
     "user": {
      "displayName": "Zsombor Szabó",
      "userId": "12627907200838509555"
     },
     "user_tz": -120
    },
    "id": "C88J3-dK4q2c",
    "outputId": "93316241-2662-4e61-8be5-f2ccf5434ab5",
    "papermill": {
     "duration": 0.098601,
     "end_time": "2024-09-18T18:28:19.988580",
     "exception": false,
     "start_time": "2024-09-18T18:28:19.889979",
     "status": "completed"
    },
    "tags": []
   },
   "outputs": [
    {
     "name": "stdout",
     "output_type": "stream",
     "text": [
      "cuda\n"
     ]
    }
   ],
   "source": [
    "device = torch.device('cuda' if torch.cuda.is_available() else 'cpu')\n",
    "\n",
    "print(device)"
   ]
  },
  {
   "cell_type": "code",
   "execution_count": 3,
   "id": "d541cb3e",
   "metadata": {
    "execution": {
     "iopub.execute_input": "2024-09-18T18:28:20.004122Z",
     "iopub.status.busy": "2024-09-18T18:28:20.003317Z",
     "iopub.status.idle": "2024-09-18T18:28:47.313463Z",
     "shell.execute_reply": "2024-09-18T18:28:47.312534Z"
    },
    "executionInfo": {
     "elapsed": 39660,
     "status": "ok",
     "timestamp": 1725100133733,
     "user": {
      "displayName": "Zsombor Szabó",
      "userId": "12627907200838509555"
     },
     "user_tz": -120
    },
    "id": "-AdwpTfw4wvo",
    "outputId": "df1148f3-cce2-4378-d460-e96c25c027c0",
    "papermill": {
     "duration": 27.320666,
     "end_time": "2024-09-18T18:28:47.316266",
     "exception": false,
     "start_time": "2024-09-18T18:28:19.995600",
     "status": "completed"
    },
    "tags": []
   },
   "outputs": [],
   "source": [
    "df = pd.read_excel(\"../input/weather-cond2/4_year_df.xlsx\", engine=\"openpyxl\")"
   ]
  },
  {
   "cell_type": "code",
   "execution_count": 4,
   "id": "fbf6c458",
   "metadata": {
    "execution": {
     "iopub.execute_input": "2024-09-18T18:28:47.336034Z",
     "iopub.status.busy": "2024-09-18T18:28:47.335466Z",
     "iopub.status.idle": "2024-09-18T18:28:47.415716Z",
     "shell.execute_reply": "2024-09-18T18:28:47.414636Z"
    },
    "executionInfo": {
     "elapsed": 247,
     "status": "ok",
     "timestamp": 1725100136495,
     "user": {
      "displayName": "Zsombor Szabó",
      "userId": "12627907200838509555"
     },
     "user_tz": -120
    },
    "id": "LmYLUczH5H1s",
    "outputId": "47be9d7f-7460-4920-df25-e90638c049e4",
    "papermill": {
     "duration": 0.091712,
     "end_time": "2024-09-18T18:28:47.418371",
     "exception": false,
     "start_time": "2024-09-18T18:28:47.326659",
     "status": "completed"
    },
    "tags": []
   },
   "outputs": [
    {
     "data": {
      "text/html": [
       "<div>\n",
       "<style scoped>\n",
       "    .dataframe tbody tr th:only-of-type {\n",
       "        vertical-align: middle;\n",
       "    }\n",
       "\n",
       "    .dataframe tbody tr th {\n",
       "        vertical-align: top;\n",
       "    }\n",
       "\n",
       "    .dataframe thead th {\n",
       "        text-align: right;\n",
       "    }\n",
       "</style>\n",
       "<table border=\"1\" class=\"dataframe\">\n",
       "  <thead>\n",
       "    <tr style=\"text-align: right;\">\n",
       "      <th></th>\n",
       "      <th>Homérséklet</th>\n",
       "      <th>Páratartalom</th>\n",
       "      <th>Légnyomás</th>\n",
       "      <th>minute_sin</th>\n",
       "      <th>month_cos</th>\n",
       "      <th>hour_sin</th>\n",
       "      <th>hour_cos</th>\n",
       "      <th>month_sin</th>\n",
       "      <th>day_sin</th>\n",
       "      <th>day_cos</th>\n",
       "    </tr>\n",
       "  </thead>\n",
       "  <tbody>\n",
       "    <tr>\n",
       "      <th>0</th>\n",
       "      <td>0.7</td>\n",
       "      <td>74</td>\n",
       "      <td>1029.7</td>\n",
       "      <td>8.183028e-01</td>\n",
       "      <td>0.866025</td>\n",
       "      <td>0.000000</td>\n",
       "      <td>1.000000</td>\n",
       "      <td>0.5</td>\n",
       "      <td>0.207912</td>\n",
       "      <td>0.978148</td>\n",
       "    </tr>\n",
       "    <tr>\n",
       "      <th>1</th>\n",
       "      <td>1.4</td>\n",
       "      <td>75</td>\n",
       "      <td>1029.6</td>\n",
       "      <td>5.322217e-02</td>\n",
       "      <td>0.866025</td>\n",
       "      <td>0.000000</td>\n",
       "      <td>1.000000</td>\n",
       "      <td>0.5</td>\n",
       "      <td>0.207912</td>\n",
       "      <td>0.978148</td>\n",
       "    </tr>\n",
       "    <tr>\n",
       "      <th>2</th>\n",
       "      <td>1.6</td>\n",
       "      <td>75</td>\n",
       "      <td>1029.8</td>\n",
       "      <td>-9.996456e-01</td>\n",
       "      <td>0.866025</td>\n",
       "      <td>0.000000</td>\n",
       "      <td>1.000000</td>\n",
       "      <td>0.5</td>\n",
       "      <td>0.207912</td>\n",
       "      <td>0.978148</td>\n",
       "    </tr>\n",
       "    <tr>\n",
       "      <th>3</th>\n",
       "      <td>1.9</td>\n",
       "      <td>75</td>\n",
       "      <td>1029.7</td>\n",
       "      <td>-2.449294e-16</td>\n",
       "      <td>0.866025</td>\n",
       "      <td>0.000000</td>\n",
       "      <td>1.000000</td>\n",
       "      <td>0.5</td>\n",
       "      <td>0.207912</td>\n",
       "      <td>0.978148</td>\n",
       "    </tr>\n",
       "    <tr>\n",
       "      <th>4</th>\n",
       "      <td>1.7</td>\n",
       "      <td>77</td>\n",
       "      <td>1029.8</td>\n",
       "      <td>8.993121e-01</td>\n",
       "      <td>0.866025</td>\n",
       "      <td>0.269797</td>\n",
       "      <td>0.962917</td>\n",
       "      <td>0.5</td>\n",
       "      <td>0.207912</td>\n",
       "      <td>0.978148</td>\n",
       "    </tr>\n",
       "  </tbody>\n",
       "</table>\n",
       "</div>"
      ],
      "text/plain": [
       "   Homérséklet  Páratartalom  Légnyomás    minute_sin  month_cos  hour_sin  \\\n",
       "0          0.7            74     1029.7  8.183028e-01   0.866025  0.000000   \n",
       "1          1.4            75     1029.6  5.322217e-02   0.866025  0.000000   \n",
       "2          1.6            75     1029.8 -9.996456e-01   0.866025  0.000000   \n",
       "3          1.9            75     1029.7 -2.449294e-16   0.866025  0.000000   \n",
       "4          1.7            77     1029.8  8.993121e-01   0.866025  0.269797   \n",
       "\n",
       "   hour_cos  month_sin   day_sin   day_cos  \n",
       "0  1.000000        0.5  0.207912  0.978148  \n",
       "1  1.000000        0.5  0.207912  0.978148  \n",
       "2  1.000000        0.5  0.207912  0.978148  \n",
       "3  1.000000        0.5  0.207912  0.978148  \n",
       "4  0.962917        0.5  0.207912  0.978148  "
      ]
     },
     "execution_count": 4,
     "metadata": {},
     "output_type": "execute_result"
    }
   ],
   "source": [
    "df.head()"
   ]
  },
  {
   "cell_type": "code",
   "execution_count": 5,
   "id": "2e46890a",
   "metadata": {
    "execution": {
     "iopub.execute_input": "2024-09-18T18:28:47.436490Z",
     "iopub.status.busy": "2024-09-18T18:28:47.436120Z",
     "iopub.status.idle": "2024-09-18T18:28:47.443267Z",
     "shell.execute_reply": "2024-09-18T18:28:47.442268Z"
    },
    "papermill": {
     "duration": 0.018589,
     "end_time": "2024-09-18T18:28:47.445533",
     "exception": false,
     "start_time": "2024-09-18T18:28:47.426944",
     "status": "completed"
    },
    "tags": []
   },
   "outputs": [
    {
     "data": {
      "text/plain": [
       "(128829, 10)"
      ]
     },
     "execution_count": 5,
     "metadata": {},
     "output_type": "execute_result"
    }
   ],
   "source": [
    "df.shape"
   ]
  },
  {
   "cell_type": "code",
   "execution_count": 6,
   "id": "58672559",
   "metadata": {
    "execution": {
     "iopub.execute_input": "2024-09-18T18:28:47.463247Z",
     "iopub.status.busy": "2024-09-18T18:28:47.462301Z",
     "iopub.status.idle": "2024-09-18T18:28:47.496465Z",
     "shell.execute_reply": "2024-09-18T18:28:47.495378Z"
    },
    "executionInfo": {
     "elapsed": 302,
     "status": "ok",
     "timestamp": 1725100147667,
     "user": {
      "displayName": "Zsombor Szabó",
      "userId": "12627907200838509555"
     },
     "user_tz": -120
    },
    "id": "Q0foNGyG5P3w",
    "outputId": "1f7d8c42-d775-4520-a2fa-1421cf757784",
    "papermill": {
     "duration": 0.045997,
     "end_time": "2024-09-18T18:28:47.499313",
     "exception": false,
     "start_time": "2024-09-18T18:28:47.453316",
     "status": "completed"
    },
    "tags": []
   },
   "outputs": [
    {
     "data": {
      "text/plain": [
       "array([[0.01842105, 0.675     , 0.70719178, ..., 0.75      , 0.60452846,\n",
       "        0.9890738 ],\n",
       "       [0.03684211, 0.6875    , 0.70547945, ..., 0.75      , 0.60452846,\n",
       "        0.9890738 ],\n",
       "       [0.04210526, 0.6875    , 0.70890411, ..., 0.75      , 0.60452846,\n",
       "        0.9890738 ],\n",
       "       ...,\n",
       "       [0.22631579, 0.6625    , 0.42123288, ..., 0.5       , 0.60452846,\n",
       "        0.9890738 ],\n",
       "       [0.22105263, 0.675     , 0.41952055, ..., 0.5       , 0.60452846,\n",
       "        0.9890738 ],\n",
       "       [0.21315789, 0.675     , 0.42123288, ..., 0.5       , 0.60452846,\n",
       "        0.9890738 ]])"
      ]
     },
     "execution_count": 6,
     "metadata": {},
     "output_type": "execute_result"
    }
   ],
   "source": [
    "scaler = MinMaxScaler()\n",
    "\n",
    "scaled_df = scaler.fit_transform(df)\n",
    "\n",
    "scaled_df"
   ]
  },
  {
   "cell_type": "code",
   "execution_count": 7,
   "id": "24f84663",
   "metadata": {
    "execution": {
     "iopub.execute_input": "2024-09-18T18:28:47.521113Z",
     "iopub.status.busy": "2024-09-18T18:28:47.520719Z",
     "iopub.status.idle": "2024-09-18T18:28:47.526810Z",
     "shell.execute_reply": "2024-09-18T18:28:47.525751Z"
    },
    "id": "SeDjBuPibDMY",
    "papermill": {
     "duration": 0.019452,
     "end_time": "2024-09-18T18:28:47.529292",
     "exception": false,
     "start_time": "2024-09-18T18:28:47.509840",
     "status": "completed"
    },
    "tags": []
   },
   "outputs": [],
   "source": [
    "class WeatherDataset(Dataset):\n",
    "    def __init__(self, x_data, y_data):\n",
    "        self.x_data = x_data\n",
    "        self.y_data = y_data\n",
    "\n",
    "    def __len__(self):\n",
    "        return len(self.x_data)\n",
    "\n",
    "    def __getitem__(self, idx):\n",
    "        return self.x_data[idx], self.y_data[idx]"
   ]
  },
  {
   "cell_type": "code",
   "execution_count": 8,
   "id": "b619ee4c",
   "metadata": {
    "execution": {
     "iopub.execute_input": "2024-09-18T18:28:47.550124Z",
     "iopub.status.busy": "2024-09-18T18:28:47.549139Z",
     "iopub.status.idle": "2024-09-18T18:28:47.556746Z",
     "shell.execute_reply": "2024-09-18T18:28:47.555798Z"
    },
    "id": "xsZUk_U05SxM",
    "papermill": {
     "duration": 0.019552,
     "end_time": "2024-09-18T18:28:47.559030",
     "exception": false,
     "start_time": "2024-09-18T18:28:47.539478",
     "status": "completed"
    },
    "tags": []
   },
   "outputs": [],
   "source": [
    "def create_sequences(data, input_length, output_length):\n",
    "\n",
    "    sequences_x = []\n",
    "    sequences_y = []\n",
    "    for i in range(len(data)-input_length-output_length+1):\n",
    "        sequences_x.append(data[i:i+input_length])\n",
    "        sequences_y.append(data[i+input_length:i+input_length+output_length,0]) #It only should use the first column\n",
    "\n",
    "    return np.array(sequences_x), np.array(sequences_y)"
   ]
  },
  {
   "cell_type": "code",
   "execution_count": 9,
   "id": "0aaf427d",
   "metadata": {
    "execution": {
     "iopub.execute_input": "2024-09-18T18:28:47.576054Z",
     "iopub.status.busy": "2024-09-18T18:28:47.575245Z",
     "iopub.status.idle": "2024-09-18T18:28:50.481214Z",
     "shell.execute_reply": "2024-09-18T18:28:50.480274Z"
    },
    "id": "kY5EdYfq5Tqb",
    "papermill": {
     "duration": 2.917256,
     "end_time": "2024-09-18T18:28:50.483923",
     "exception": false,
     "start_time": "2024-09-18T18:28:47.566667",
     "status": "completed"
    },
    "tags": []
   },
   "outputs": [],
   "source": [
    "input_length = 700\n",
    "output_length = 300\n",
    "\n",
    "sequences_x, sequences_y = create_sequences(scaled_df, input_length, output_length)"
   ]
  },
  {
   "cell_type": "code",
   "execution_count": 10,
   "id": "b494c972",
   "metadata": {
    "execution": {
     "iopub.execute_input": "2024-09-18T18:28:50.501300Z",
     "iopub.status.busy": "2024-09-18T18:28:50.500959Z",
     "iopub.status.idle": "2024-09-18T18:28:50.510627Z",
     "shell.execute_reply": "2024-09-18T18:28:50.509652Z"
    },
    "id": "qEOhZTRJ5V5c",
    "papermill": {
     "duration": 0.021034,
     "end_time": "2024-09-18T18:28:50.512845",
     "exception": false,
     "start_time": "2024-09-18T18:28:50.491811",
     "status": "completed"
    },
    "tags": []
   },
   "outputs": [],
   "source": [
    "class LSTM_weather(nn.Module):\n",
    "    def __init__(self, input_dim, hidden_size, num_layers, seq_length, output_length):\n",
    "        super(LSTM_weather, self).__init__()\n",
    "        self.input_dim = input_dim\n",
    "        self.hidden_size = hidden_size\n",
    "        self.num_layers = num_layers\n",
    "        self.seq_length = seq_length\n",
    "        self.output_length = output_length\n",
    "\n",
    "        self.lstm = nn.LSTM(input_dim, hidden_size, num_layers, batch_first = True)\n",
    "        self.fc = nn.Linear(hidden_size, 1)\n",
    "        self.relu = nn.ReLU()\n",
    "\n",
    "    def forward(self, x):\n",
    "        h_0 = torch.zeros(self.num_layers, x.size(0), self.hidden_size).to(x.device)\n",
    "        c_0 = torch.zeros(self.num_layers, x.size(0), self.hidden_size).to(x.device)\n",
    "\n",
    "        output, (hn, cn) = self.lstm(x, (h_0, c_0))\n",
    "\n",
    "        out = output[:, -self.output_length:, :]\n",
    "\n",
    "        out = self.relu(self.fc(out))\n",
    "\n",
    "\n",
    "\n",
    "        return out"
   ]
  },
  {
   "cell_type": "code",
   "execution_count": 11,
   "id": "cff33db0",
   "metadata": {
    "execution": {
     "iopub.execute_input": "2024-09-18T18:28:50.529636Z",
     "iopub.status.busy": "2024-09-18T18:28:50.528975Z",
     "iopub.status.idle": "2024-09-18T18:28:50.534550Z",
     "shell.execute_reply": "2024-09-18T18:28:50.533631Z"
    },
    "id": "liDS9JTz5ZIi",
    "papermill": {
     "duration": 0.016102,
     "end_time": "2024-09-18T18:28:50.536633",
     "exception": false,
     "start_time": "2024-09-18T18:28:50.520531",
     "status": "completed"
    },
    "tags": []
   },
   "outputs": [],
   "source": [
    "def train_val_split(sequences_x, sequences_y, val_percentage):\n",
    "    val_size = int(val_percentage*len(sequences_x)/100)\n",
    "    val_x, train_x = sequences_x[:val_size], sequences_x[val_size:]\n",
    "    val_y, train_y = sequences_y[:val_size], sequences_y[val_size:]\n",
    "\n",
    "    return train_x, val_x, train_y,  val_y\n"
   ]
  },
  {
   "cell_type": "code",
   "execution_count": 12,
   "id": "aaf54196",
   "metadata": {
    "execution": {
     "iopub.execute_input": "2024-09-18T18:28:50.552953Z",
     "iopub.status.busy": "2024-09-18T18:28:50.552616Z",
     "iopub.status.idle": "2024-09-18T18:28:50.556878Z",
     "shell.execute_reply": "2024-09-18T18:28:50.555993Z"
    },
    "id": "3nzZk7Ft5c2a",
    "papermill": {
     "duration": 0.014688,
     "end_time": "2024-09-18T18:28:50.558885",
     "exception": false,
     "start_time": "2024-09-18T18:28:50.544197",
     "status": "completed"
    },
    "tags": []
   },
   "outputs": [],
   "source": [
    "val_percentage = 25\n",
    "x_train, x_val, y_train, y_val = train_val_split(sequences_x, sequences_y, val_percentage)"
   ]
  },
  {
   "cell_type": "code",
   "execution_count": 13,
   "id": "5198cd07",
   "metadata": {
    "execution": {
     "iopub.execute_input": "2024-09-18T18:28:50.574329Z",
     "iopub.status.busy": "2024-09-18T18:28:50.574034Z",
     "iopub.status.idle": "2024-09-18T18:28:53.400390Z",
     "shell.execute_reply": "2024-09-18T18:28:53.399314Z"
    },
    "id": "0XPyjcxb5jkT",
    "papermill": {
     "duration": 2.837016,
     "end_time": "2024-09-18T18:28:53.402988",
     "exception": false,
     "start_time": "2024-09-18T18:28:50.565972",
     "status": "completed"
    },
    "tags": []
   },
   "outputs": [],
   "source": [
    "train_dataset = WeatherDataset(torch.tensor(x_train, dtype = torch.float32).to(device), torch.tensor(y_train, dtype = torch.float32).to(device))\n",
    "val_dataset = WeatherDataset(torch.tensor(x_val, dtype = torch.float32).to(device), torch.tensor(y_val, dtype = torch.float32).to(device))\n",
    "\n",
    "batch_size = 64\n",
    "\n",
    "train_loader = DataLoader(train_dataset, batch_size = batch_size, shuffle = False, drop_last=True)\n",
    "val_loader = DataLoader(val_dataset, batch_size = batch_size, shuffle = False, drop_last=True)"
   ]
  },
  {
   "cell_type": "code",
   "execution_count": 14,
   "id": "123d0c83",
   "metadata": {
    "execution": {
     "iopub.execute_input": "2024-09-18T18:28:53.419531Z",
     "iopub.status.busy": "2024-09-18T18:28:53.419140Z",
     "iopub.status.idle": "2024-09-18T18:28:54.625707Z",
     "shell.execute_reply": "2024-09-18T18:28:54.624598Z"
    },
    "id": "K4s9htPI5ksE",
    "papermill": {
     "duration": 1.217936,
     "end_time": "2024-09-18T18:28:54.628533",
     "exception": false,
     "start_time": "2024-09-18T18:28:53.410597",
     "status": "completed"
    },
    "tags": []
   },
   "outputs": [],
   "source": [
    "#the hyperparameters were optimized out\n",
    "input_dim = 10\n",
    "hidden_size = 312\n",
    "num_layers = 1\n",
    "seq_length = 700\n",
    "output_length = 300\n",
    "\n",
    "model = LSTM_weather(input_dim, hidden_size, num_layers, seq_length, output_length).to(device)\n",
    "\n",
    "criterion = nn.MSELoss()\n",
    "\n",
    "\n",
    "learning_rate = 0.0011357775426126904\n",
    "\n",
    "optimizer = optim.SGD(model.parameters(), lr = learning_rate)"
   ]
  },
  {
   "cell_type": "code",
   "execution_count": 15,
   "id": "c706d47b",
   "metadata": {
    "execution": {
     "iopub.execute_input": "2024-09-18T18:28:54.645134Z",
     "iopub.status.busy": "2024-09-18T18:28:54.644649Z",
     "iopub.status.idle": "2024-09-18T18:28:54.650918Z",
     "shell.execute_reply": "2024-09-18T18:28:54.649957Z"
    },
    "id": "HGbI9bwb_K8W",
    "papermill": {
     "duration": 0.016655,
     "end_time": "2024-09-18T18:28:54.652999",
     "exception": false,
     "start_time": "2024-09-18T18:28:54.636344",
     "status": "completed"
    },
    "tags": []
   },
   "outputs": [],
   "source": [
    "def plotting_loss(epochs, train_loss, val_loss):\n",
    "\n",
    "  plt.plot(epochs, train_loss, color = 'b', label = 'Training Loss')\n",
    "  plt.plot(epochs, val_loss, color = 'g', label = 'Validation Loss')\n",
    "  plt.xlabel(\"Epochs\")\n",
    "  plt.ylabel(\"Loss\")\n",
    "  plt.title('Summed up loss over Epochs')\n",
    "  plt.legend()\n",
    "  plt.grid(True)\n",
    "  plt.savefig('/kaggle/working/final_model_loss_epoch_fig.png')\n",
    "\n",
    "  plt.show()\n",
    "  \n"
   ]
  },
  {
   "cell_type": "code",
   "execution_count": 16,
   "id": "a9181433",
   "metadata": {
    "execution": {
     "iopub.execute_input": "2024-09-18T18:28:54.669114Z",
     "iopub.status.busy": "2024-09-18T18:28:54.668711Z",
     "iopub.status.idle": "2024-09-18T18:28:54.674261Z",
     "shell.execute_reply": "2024-09-18T18:28:54.673299Z"
    },
    "id": "lJBIZaY_6EPC",
    "papermill": {
     "duration": 0.01635,
     "end_time": "2024-09-18T18:28:54.676401",
     "exception": false,
     "start_time": "2024-09-18T18:28:54.660051",
     "status": "completed"
    },
    "tags": []
   },
   "outputs": [],
   "source": [
    "def save_checkpoint(model, optimizer, epochs, train_loss, val_loss):\n",
    "\n",
    "  save_path = '/kaggle/working/final_model_end_checkpoint.pth'\n",
    "\n",
    "  checkpoint = {\n",
    "      'model_state_dict': model.state_dict(),\n",
    "      'optimizer_state_dict': optimizer.state_dict(),\n",
    "      'epochs': epochs,\n",
    "      'train_loss': train_loss,\n",
    "      'val_loss': val_loss,\n",
    "  }\n",
    "  torch.save(checkpoint, save_path)"
   ]
  },
  {
   "cell_type": "code",
   "execution_count": 17,
   "id": "7e2326a2",
   "metadata": {
    "execution": {
     "iopub.execute_input": "2024-09-18T18:28:54.692598Z",
     "iopub.status.busy": "2024-09-18T18:28:54.692263Z",
     "iopub.status.idle": "2024-09-18T18:28:54.697554Z",
     "shell.execute_reply": "2024-09-18T18:28:54.696567Z"
    },
    "id": "ODYLIqva7oTE",
    "papermill": {
     "duration": 0.01578,
     "end_time": "2024-09-18T18:28:54.699659",
     "exception": false,
     "start_time": "2024-09-18T18:28:54.683879",
     "status": "completed"
    },
    "tags": []
   },
   "outputs": [],
   "source": [
    "def load_checkpoint(model, optimizer):\n",
    "\n",
    "  file_path = '/kaggle/working/final_model_end_checkpoint.pth'\n",
    "  checkpoint = torch.load(file_path)\n",
    "\n",
    "  model.load_state_dict(checkpoint['model_state_dict'])\n",
    "  optimizer.load_state_dict(checkpoint['optimizer_state_dict'])\n",
    "  return model, optimizer"
   ]
  },
  {
   "cell_type": "code",
   "execution_count": 18,
   "id": "fef5baaf",
   "metadata": {
    "execution": {
     "iopub.execute_input": "2024-09-18T18:28:54.715848Z",
     "iopub.status.busy": "2024-09-18T18:28:54.715500Z",
     "iopub.status.idle": "2024-09-19T00:13:19.446878Z",
     "shell.execute_reply": "2024-09-19T00:13:19.445834Z"
    },
    "id": "7tfV4_pq5spf",
    "outputId": "0aa6d9f5-a72d-4680-a44b-859098a8ccf0",
    "papermill": {
     "duration": 20664.742514,
     "end_time": "2024-09-19T00:13:19.449574",
     "exception": false,
     "start_time": "2024-09-18T18:28:54.707060",
     "status": "completed"
    },
    "tags": []
   },
   "outputs": [
    {
     "name": "stdout",
     "output_type": "stream",
     "text": [
      "Starting Training...\n",
      "Epoch: 1, Training loss: 0.05125239388215995, Validation loss: 0.043411895261801225\n",
      "Epoch: 2, Training loss: 0.04174647228106874, Validation loss: 0.03751422396608123\n",
      "Epoch: 3, Training loss: 0.03610321229955714, Validation loss: 0.03219101337491085\n",
      "Epoch: 4, Training loss: 0.03090987350825576, Validation loss: 0.027360008521386252\n",
      "Epoch: 5, Training loss: 0.02620982626776021, Validation loss: 0.023102179843650567\n",
      "Epoch: 6, Training loss: 0.022143975242031103, Validation loss: 0.01956099541652537\n",
      "Epoch: 7, Training loss: 0.01885042517683475, Validation loss: 0.016838995943486108\n",
      "Epoch: 8, Training loss: 0.016380955237747283, Validation loss: 0.01492799903459302\n",
      "Epoch: 9, Training loss: 0.01467047404447037, Validation loss: 0.013702787093086567\n",
      "Epoch: 10, Training loss: 0.013564621323554245, Validation loss: 0.012972153395223982\n",
      "Epoch: 11, Training loss: 0.012856880431678966, Validation loss: 0.012521550011725906\n",
      "Epoch: 12, Training loss: 0.01237237188782921, Validation loss: 0.012190888539229134\n",
      "Epoch: 13, Training loss: 0.012030418039854735, Validation loss: 0.01194871315277202\n",
      "Epoch: 14, Training loss: 0.011785247385065421, Validation loss: 0.011768304143765408\n",
      "Epoch: 15, Training loss: 0.01160492509580497, Validation loss: 0.011644643031056962\n",
      "Epoch: 16, Training loss: 0.011471677251198692, Validation loss: 0.011549406582750903\n",
      "Epoch: 17, Training loss: 0.011373028975603069, Validation loss: 0.011472171493050062\n",
      "Epoch: 18, Training loss: 0.011300346721849654, Validation loss: 0.011411460350269456\n",
      "Epoch: 19, Training loss: 0.011245800770128466, Validation loss: 0.01136295943668407\n",
      "Epoch: 20, Training loss: 0.011205132206707933, Validation loss: 0.011323827560543119\n",
      "Epoch: 21, Training loss: 0.011173954020047285, Validation loss: 0.011293058858004834\n",
      "Epoch: 22, Training loss: 0.011149781755015045, Validation loss: 0.011266754130610752\n",
      "Epoch: 23, Training loss: 0.011130231625113875, Validation loss: 0.011245737961849911\n",
      "Epoch: 24, Training loss: 0.011114738534595717, Validation loss: 0.011228766588621096\n",
      "Epoch: 25, Training loss: 0.011101970425620427, Validation loss: 0.011214596937449728\n",
      "Epoch: 26, Training loss: 0.011091056218211015, Validation loss: 0.011203602407097757\n",
      "Epoch: 27, Training loss: 0.011081593587776354, Validation loss: 0.011194785304725887\n",
      "Epoch: 28, Training loss: 0.011073303963875247, Validation loss: 0.011187027593914099\n",
      "Epoch: 29, Training loss: 0.011065950430214693, Validation loss: 0.011181295212948012\n",
      "Epoch: 30, Training loss: 0.011059306853995454, Validation loss: 0.011177467674535806\n",
      "Epoch: 31, Training loss: 0.011053442913751044, Validation loss: 0.011174743770638514\n",
      "Epoch: 32, Training loss: 0.011048056491826585, Validation loss: 0.011172906348653481\n",
      "Epoch: 33, Training loss: 0.011043006090838362, Validation loss: 0.011171732796356082\n",
      "Epoch: 34, Training loss: 0.011038220351613505, Validation loss: 0.011171326696786858\n",
      "Epoch: 35, Training loss: 0.011033886763048378, Validation loss: 0.011171792069252185\n",
      "Epoch: 36, Training loss: 0.011029690849512084, Validation loss: 0.011172638837908784\n",
      "Epoch: 37, Training loss: 0.011025619070146367, Validation loss: 0.011173965040788443\n",
      "Epoch: 38, Training loss: 0.011021783249716937, Validation loss: 0.011175261242576466\n",
      "Epoch: 39, Training loss: 0.011018171661517251, Validation loss: 0.01117688165240378\n",
      "Epoch: 40, Training loss: 0.011014786102446555, Validation loss: 0.011178619901599261\n",
      "Epoch: 41, Training loss: 0.011011577220723774, Validation loss: 0.011180597970090463\n",
      "Epoch: 42, Training loss: 0.011008616314438708, Validation loss: 0.011182623276139846\n",
      "Epoch: 43, Training loss: 0.011005699847954187, Validation loss: 0.011185001864663525\n",
      "Epoch: 44, Training loss: 0.011002942753423537, Validation loss: 0.011186918561516669\n",
      "Epoch: 45, Training loss: 0.011000299821756978, Validation loss: 0.011188912582873014\n",
      "Epoch: 46, Training loss: 0.01099780334017671, Validation loss: 0.011191208941585764\n",
      "Epoch: 47, Training loss: 0.010995356442275592, Validation loss: 0.011193164613542105\n",
      "Epoch: 48, Training loss: 0.01099304867529426, Validation loss: 0.011195411801595756\n",
      "Epoch: 49, Training loss: 0.010990890010072911, Validation loss: 0.011197743886514363\n",
      "Epoch: 50, Training loss: 0.01098880835195496, Validation loss: 0.011200429409283227\n",
      "Epoch: 51, Training loss: 0.01098671481030395, Validation loss: 0.011203262829903013\n",
      "Epoch: 52, Training loss: 0.010984801774261985, Validation loss: 0.011205895863126269\n",
      "Epoch: 53, Training loss: 0.010982936702032035, Validation loss: 0.011208510230237502\n",
      "Epoch: 54, Training loss: 0.010981107239756926, Validation loss: 0.011211037961486167\n",
      "Epoch: 55, Training loss: 0.010979368062071298, Validation loss: 0.011213732073792743\n",
      "Epoch: 56, Training loss: 0.010977725372792723, Validation loss: 0.011215989642640303\n",
      "Epoch: 57, Training loss: 0.010976073655653595, Validation loss: 0.011218396989714526\n",
      "Epoch: 58, Training loss: 0.010974438108353987, Validation loss: 0.011220751418909413\n",
      "Epoch: 59, Training loss: 0.01097291077974281, Validation loss: 0.011222990949681115\n",
      "Epoch: 60, Training loss: 0.01097130532533761, Validation loss: 0.011225340722263128\n",
      "Epoch: 61, Training loss: 0.010969847873974224, Validation loss: 0.011227043078211929\n",
      "Epoch: 62, Training loss: 0.010968486243456066, Validation loss: 0.011228871214966884\n",
      "Epoch: 63, Training loss: 0.010967107848898422, Validation loss: 0.011230917546229964\n",
      "Epoch: 64, Training loss: 0.010965746822449888, Validation loss: 0.011233010955475914\n",
      "Epoch: 65, Training loss: 0.010964462237114905, Validation loss: 0.011235237912926263\n",
      "Epoch: 66, Training loss: 0.010963265856280947, Validation loss: 0.011237276809472957\n",
      "Epoch: 67, Training loss: 0.01096197419447976, Validation loss: 0.01123941034024473\n",
      "Epoch: 68, Training loss: 0.010960765808335169, Validation loss: 0.011241520117158312\n",
      "Epoch: 69, Training loss: 0.010959648297405186, Validation loss: 0.011243702384189726\n",
      "Epoch: 70, Training loss: 0.010958437124364829, Validation loss: 0.011245844707934407\n",
      "Epoch: 71, Training loss: 0.01095728731323444, Validation loss: 0.011247773284282916\n",
      "Epoch: 72, Training loss: 0.010956224187066498, Validation loss: 0.011250003684733906\n",
      "Epoch: 73, Training loss: 0.010955192944552819, Validation loss: 0.011251967411977285\n",
      "Epoch: 74, Training loss: 0.010954192774594128, Validation loss: 0.011254077121701263\n",
      "Epoch: 75, Training loss: 0.010953233465247693, Validation loss: 0.011256092528948833\n",
      "Epoch: 76, Training loss: 0.010952298421734752, Validation loss: 0.01125802942514345\n",
      "Epoch: 77, Training loss: 0.010951367376443094, Validation loss: 0.011259899581530558\n",
      "Epoch: 78, Training loss: 0.010950465814458537, Validation loss: 0.011261833518116411\n",
      "Epoch: 79, Training loss: 0.010949507313413678, Validation loss: 0.011263597790219024\n",
      "Epoch: 80, Training loss: 0.010948554446699423, Validation loss: 0.011265341562026727\n",
      "Epoch: 81, Training loss: 0.010947721415881356, Validation loss: 0.01126709449215081\n",
      "Epoch: 82, Training loss: 0.010946857306602048, Validation loss: 0.011268667673285236\n",
      "Epoch: 83, Training loss: 0.010946000967151766, Validation loss: 0.011270006942210014\n",
      "Epoch: 84, Training loss: 0.010945137859137482, Validation loss: 0.011271545844981242\n",
      "Epoch: 85, Training loss: 0.01094432842806765, Validation loss: 0.01127310344279335\n",
      "Epoch: 86, Training loss: 0.010943533795188183, Validation loss: 0.011274484100047954\n",
      "Epoch: 87, Training loss: 0.010942751373172438, Validation loss: 0.01127585678320296\n",
      "Epoch: 88, Training loss: 0.010941963960452052, Validation loss: 0.01127722597903085\n",
      "Epoch: 89, Training loss: 0.010941197870620022, Validation loss: 0.011278545306174306\n",
      "Epoch: 90, Training loss: 0.010940475086976858, Validation loss: 0.011279977299086376\n",
      "Epoch: 91, Training loss: 0.010939772443572937, Validation loss: 0.011281422120080384\n",
      "Epoch: 92, Training loss: 0.010939028513140962, Validation loss: 0.011282654428287206\n",
      "Epoch: 93, Training loss: 0.010938387920269282, Validation loss: 0.011283995562190103\n",
      "Epoch: 94, Training loss: 0.010937687729591646, Validation loss: 0.011285369428162106\n",
      "Epoch: 95, Training loss: 0.010937009023757991, Validation loss: 0.01128679227442266\n",
      "Epoch: 96, Training loss: 0.010936333158131794, Validation loss: 0.01128811814275408\n",
      "Epoch: 97, Training loss: 0.010935608929866187, Validation loss: 0.011289333505649306\n",
      "Epoch: 98, Training loss: 0.0109349489576514, Validation loss: 0.011290421347340983\n",
      "Epoch: 99, Training loss: 0.010934315911336904, Validation loss: 0.011291624567581562\n",
      "Epoch: 100, Training loss: 0.010933703014665024, Validation loss: 0.011292791138225811\n",
      "Epoch: 101, Training loss: 0.010933043291367645, Validation loss: 0.011293904221745466\n",
      "Epoch: 102, Training loss: 0.01093239232774038, Validation loss: 0.011294974743916778\n",
      "Epoch: 103, Training loss: 0.01093174750039737, Validation loss: 0.011296027919505246\n",
      "Epoch: 104, Training loss: 0.010931070595659509, Validation loss: 0.011297068053778104\n",
      "Epoch: 105, Training loss: 0.010930438484786418, Validation loss: 0.011298058509737073\n",
      "Epoch: 106, Training loss: 0.010929820079758058, Validation loss: 0.011298912229251588\n",
      "Epoch: 107, Training loss: 0.010929217966502217, Validation loss: 0.01129980587385565\n",
      "Epoch: 108, Training loss: 0.010928626493047251, Validation loss: 0.011300803004448603\n",
      "Epoch: 109, Training loss: 0.010928020949036539, Validation loss: 0.011301798567284116\n",
      "Epoch: 110, Training loss: 0.010927407731717385, Validation loss: 0.011302737993205\n",
      "Epoch: 111, Training loss: 0.010926783372332853, Validation loss: 0.011303643235481364\n",
      "Epoch: 112, Training loss: 0.010926187718883953, Validation loss: 0.011304564861289574\n",
      "Epoch: 113, Training loss: 0.010925613841472769, Validation loss: 0.011305363405540675\n",
      "Epoch: 114, Training loss: 0.010925005031771367, Validation loss: 0.011306159488505914\n",
      "Epoch: 115, Training loss: 0.01092441782332927, Validation loss: 0.011307093119789998\n",
      "Epoch: 116, Training loss: 0.0109238101632486, Validation loss: 0.011307957663829764\n",
      "Epoch: 117, Training loss: 0.010923224945912618, Validation loss: 0.011308734847385742\n",
      "Epoch: 118, Training loss: 0.010922632998869555, Validation loss: 0.011309386455437135\n",
      "Epoch: 119, Training loss: 0.010922068581096978, Validation loss: 0.011310125631140266\n",
      "Epoch: 120, Training loss: 0.010921437536846244, Validation loss: 0.011310898679735993\n",
      "Epoch: 121, Training loss: 0.010920878271345368, Validation loss: 0.011311564224031203\n",
      "Epoch: 122, Training loss: 0.010920302475101933, Validation loss: 0.011312194508248436\n",
      "Epoch: 123, Training loss: 0.010919728731669395, Validation loss: 0.011312932829150486\n",
      "Epoch: 124, Training loss: 0.01091916030837044, Validation loss: 0.011313466520379028\n",
      "Epoch: 125, Training loss: 0.010918581071424762, Validation loss: 0.011314064103322391\n",
      "Epoch: 126, Training loss: 0.010918013793938558, Validation loss: 0.011314732814394312\n",
      "Epoch: 127, Training loss: 0.010917421576062786, Validation loss: 0.011315298465944692\n",
      "Epoch: 128, Training loss: 0.010916838295666378, Validation loss: 0.011315859196323132\n",
      "Epoch: 129, Training loss: 0.010916277139621088, Validation loss: 0.01131638321084883\n",
      "Epoch: 130, Training loss: 0.010915703707121596, Validation loss: 0.0113170270748317\n",
      "Epoch: 131, Training loss: 0.010915150953185073, Validation loss: 0.011317533833293883\n",
      "Epoch: 132, Training loss: 0.010914543172958816, Validation loss: 0.011317984168819023\n",
      "Epoch: 133, Training loss: 0.010913968088030093, Validation loss: 0.01131839802085547\n",
      "Epoch: 134, Training loss: 0.010913383769066021, Validation loss: 0.011318918057196663\n",
      "Epoch: 135, Training loss: 0.010912836676970801, Validation loss: 0.011319412162083244\n",
      "Epoch: 136, Training loss: 0.010912243852227707, Validation loss: 0.011319856187851283\n",
      "Epoch: 137, Training loss: 0.010911665919009293, Validation loss: 0.011320442536599442\n",
      "Epoch: 138, Training loss: 0.010911105547252003, Validation loss: 0.011320822503145238\n",
      "Epoch: 139, Training loss: 0.010910514844795974, Validation loss: 0.0113211689294803\n",
      "Epoch: 140, Training loss: 0.010909996615851469, Validation loss: 0.011321773348032742\n",
      "Epoch: 141, Training loss: 0.010909441220965758, Validation loss: 0.011322236657217294\n",
      "Epoch: 142, Training loss: 0.010908881397712702, Validation loss: 0.011322618377225134\n",
      "Epoch: 143, Training loss: 0.010908313536906468, Validation loss: 0.011323005086994303\n",
      "Epoch: 144, Training loss: 0.010907744320693273, Validation loss: 0.011323300974615261\n",
      "Epoch: 145, Training loss: 0.010907139329771911, Validation loss: 0.01132359314814419\n",
      "Epoch: 146, Training loss: 0.010906568920806806, Validation loss: 0.011324014735383865\n",
      "Epoch: 147, Training loss: 0.01090602296115756, Validation loss: 0.011324285384443009\n",
      "Epoch: 148, Training loss: 0.010905436427504675, Validation loss: 0.011324491042024149\n",
      "Epoch: 149, Training loss: 0.010904872155834104, Validation loss: 0.011324694288711629\n",
      "Epoch: 150, Training loss: 0.010904298019247286, Validation loss: 0.01132496249841485\n",
      "Epoch: 151, Training loss: 0.010903742125982765, Validation loss: 0.011325160188895308\n",
      "Epoch: 152, Training loss: 0.0109031725391523, Validation loss: 0.011325340947595412\n",
      "Epoch: 153, Training loss: 0.010902605688936749, Validation loss: 0.011325525915444286\n",
      "Epoch: 154, Training loss: 0.010902054272066723, Validation loss: 0.011325830861063813\n",
      "Epoch: 155, Training loss: 0.010901492028649479, Validation loss: 0.01132598982000339\n",
      "Epoch: 156, Training loss: 0.010900911039179154, Validation loss: 0.011326137115480845\n",
      "Epoch: 157, Training loss: 0.010900350945404244, Validation loss: 0.01132632525430578\n",
      "Epoch: 158, Training loss: 0.010899796160183554, Validation loss: 0.011326423304935615\n",
      "Epoch: 159, Training loss: 0.010899212448630801, Validation loss: 0.011326535547036446\n",
      "Epoch: 160, Training loss: 0.01089863878563208, Validation loss: 0.011326752629183338\n",
      "Epoch: 161, Training loss: 0.010898083695306881, Validation loss: 0.011326867028817026\n",
      "Epoch: 162, Training loss: 0.01089747220914107, Validation loss: 0.01132692957907273\n",
      "Epoch: 163, Training loss: 0.010896862524304196, Validation loss: 0.011326968451525142\n",
      "Epoch: 164, Training loss: 0.010896301917695703, Validation loss: 0.011327000416979522\n",
      "Epoch: 165, Training loss: 0.010895696710885312, Validation loss: 0.011327112614287285\n",
      "Epoch: 166, Training loss: 0.010895111654960961, Validation loss: 0.0113271766417811\n",
      "Epoch: 167, Training loss: 0.010894543950281818, Validation loss: 0.011327275801039411\n",
      "Epoch: 168, Training loss: 0.010893948907663646, Validation loss: 0.0113272966662112\n",
      "Epoch: 169, Training loss: 0.01089337740363292, Validation loss: 0.011327304547458499\n",
      "Epoch: 170, Training loss: 0.010892813731446857, Validation loss: 0.011327285913541495\n",
      "Epoch: 171, Training loss: 0.010892190040556717, Validation loss: 0.011327266259648966\n",
      "Epoch: 172, Training loss: 0.010891597791284556, Validation loss: 0.011327314341743151\n",
      "Epoch: 173, Training loss: 0.010891022118217547, Validation loss: 0.011327319571800635\n",
      "Epoch: 174, Training loss: 0.010890444887843038, Validation loss: 0.011327297097344497\n",
      "Epoch: 175, Training loss: 0.010889841752805721, Validation loss: 0.011327231642538177\n",
      "Epoch: 176, Training loss: 0.010889266347462866, Validation loss: 0.011327155359940442\n",
      "Epoch: 177, Training loss: 0.010888697199637844, Validation loss: 0.011327185593862721\n",
      "Epoch: 178, Training loss: 0.010888139210586673, Validation loss: 0.011327116539746612\n",
      "Epoch: 179, Training loss: 0.010887537961353229, Validation loss: 0.011327029966407704\n",
      "Epoch: 180, Training loss: 0.010886933026696681, Validation loss: 0.011326985998277016\n",
      "Epoch: 181, Training loss: 0.010886324617687801, Validation loss: 0.011326965808734029\n",
      "Epoch: 182, Training loss: 0.010885761780925443, Validation loss: 0.011326839584196528\n",
      "Epoch: 183, Training loss: 0.010885182890428034, Validation loss: 0.011326716824123012\n",
      "Epoch: 184, Training loss: 0.010884610477922602, Validation loss: 0.011326595808646244\n",
      "Epoch: 185, Training loss: 0.010884033018292284, Validation loss: 0.011326474366702125\n",
      "Epoch: 186, Training loss: 0.010883395511825484, Validation loss: 0.011326452063019564\n",
      "Epoch: 187, Training loss: 0.01088280393361227, Validation loss: 0.011326306321768311\n",
      "Epoch: 188, Training loss: 0.01088222606777175, Validation loss: 0.011326223878257111\n",
      "Epoch: 189, Training loss: 0.010881664776038105, Validation loss: 0.011326112470427203\n",
      "Epoch: 190, Training loss: 0.010881052242833823, Validation loss: 0.011325960378825127\n",
      "Epoch: 191, Training loss: 0.010880451613679051, Validation loss: 0.011325809695871774\n",
      "Epoch: 192, Training loss: 0.010879857272661362, Validation loss: 0.011325649326417095\n",
      "Epoch: 193, Training loss: 0.010879278604891797, Validation loss: 0.011325488794120942\n",
      "Epoch: 194, Training loss: 0.010878686420355261, Validation loss: 0.011325319858924869\n",
      "Epoch: 195, Training loss: 0.010878076683450116, Validation loss: 0.011325135387999112\n",
      "Epoch: 196, Training loss: 0.010877490831036693, Validation loss: 0.011324950470075847\n",
      "Epoch: 197, Training loss: 0.010876879748127961, Validation loss: 0.011324764021722701\n",
      "Epoch: 198, Training loss: 0.010876295782373261, Validation loss: 0.01132457350559891\n",
      "Epoch: 199, Training loss: 0.010875699269797937, Validation loss: 0.011324392061471521\n",
      "Epoch: 200, Training loss: 0.010875064972834724, Validation loss: 0.011324181800469279\n",
      "The best performing epoch by validation loss: 34\n"
     ]
    },
    {
     "data": {
      "image/png": "[encoded data removed]",
      "text/plain": [
       "<Figure size 640x480 with 1 Axes>"
      ]
     },
     "metadata": {},
     "output_type": "display_data"
    }
   ],
   "source": [
    "print(\"Starting Training...\")\n",
    "\n",
    "\n",
    "val_loss = []\n",
    "train_loss = []\n",
    "epochs = []\n",
    "\n",
    "best_val_loss = float(\"inf\")\n",
    "best_model_weights = None\n",
    "\n",
    "num_epochs = 200\n",
    "\n",
    "for epoch in range(0,num_epochs):\n",
    "    epochs.append(epoch+1)\n",
    "\n",
    "    train_loss1 = 0\n",
    "    val_loss1 = 0\n",
    "\n",
    "    model.train()\n",
    "    for x_batch, y_batch in train_loader:\n",
    "\n",
    "        optimizer.zero_grad()\n",
    "\n",
    "        output_value = model(x_batch)\n",
    "\n",
    "        loss = criterion(output_value.squeeze(-1), y_batch)\n",
    "\n",
    "        loss.backward()\n",
    "\n",
    "        torch.nn.utils.clip_grad_norm_(model.parameters(), 4.0)\n",
    "\n",
    "        optimizer.step()\n",
    "\n",
    "        train_loss1 += loss.item()\n",
    "\n",
    "        \n",
    "    train_loss1 /= len(train_loader) #taking the average\n",
    "    train_loss.append(train_loss1)\n",
    "\n",
    "    model.eval()\n",
    "    with torch.no_grad():\n",
    "        for x_val_batch, y_val_batch in val_loader:\n",
    "\n",
    "            output_value_val = model(x_val_batch)\n",
    "\n",
    "            loss_val = criterion(output_value_val.squeeze(-1), y_val_batch)\n",
    "\n",
    "            val_loss1 += loss_val.item()\n",
    "\n",
    "            \n",
    "    val_loss1 /= len(val_loader) #taking the average\n",
    "    val_loss.append(val_loss1)\n",
    "\n",
    "    print(f'Epoch: {epoch+1}, Training loss: {train_loss1}, Validation loss: {val_loss1}')\n",
    "\n",
    "    torch.save(model.state_dict(), f'/kaggle/working/final_model_weights_{epoch+1}_epoch.pth')\n",
    "\n",
    "\n",
    "    save_checkpoint(model, optimizer, epochs, train_loss, val_loss)\n",
    "    \n",
    "    if val_loss1 < best_val_loss:\n",
    "        best_val_loss = val_loss1\n",
    "        best_model_weights = model.state_dict()\n",
    "\n",
    "    \n",
    "best_epoch = val_loss.index(min(val_loss)) + 1\n",
    "\n",
    "print(f\"The best performing epoch by validation loss: {best_epoch}\")\n",
    "\n",
    "\n",
    "plotting_loss(epochs, train_loss, val_loss)"
   ]
  },
  {
   "cell_type": "code",
   "execution_count": 19,
   "id": "1cc6482a",
   "metadata": {
    "execution": {
     "iopub.execute_input": "2024-09-19T00:13:19.503495Z",
     "iopub.status.busy": "2024-09-19T00:13:19.503087Z",
     "iopub.status.idle": "2024-09-19T00:13:19.513631Z",
     "shell.execute_reply": "2024-09-19T00:13:19.512837Z"
    },
    "papermill": {
     "duration": 0.040034,
     "end_time": "2024-09-19T00:13:19.515759",
     "exception": false,
     "start_time": "2024-09-19T00:13:19.475725",
     "status": "completed"
    },
    "tags": []
   },
   "outputs": [],
   "source": [
    "model.load_state_dict(best_model_weights)\n",
    "\n",
    "torch.save({\n",
    "    'model_state_dict': best_model_weights,\n",
    "    'input_dim': input_dim,\n",
    "    'hidden_size': hidden_size,\n",
    "    'num_layers': num_layers,\n",
    "    'seq_length': seq_length,\n",
    "    'output_length': output_length\n",
    "}, '/kaggle/working/best_model.pth')"
   ]
  }
 ],
 "metadata": {
  "accelerator": "GPU",
  "colab": {
   "authorship_tag": "ABX9TyPdEK4iB2gWGTuGB2YUWAdz",
   "gpuType": "T4",
   "provenance": []
  },
  "kaggle": {
   "accelerator": "nvidiaTeslaT4",
   "dataSources": [
    {
     "datasetId": 5642748,
     "sourceId": 9316277,
     "sourceType": "datasetVersion"
    },
    {
     "datasetId": 5659127,
     "sourceId": 9338559,
     "sourceType": "datasetVersion"
    },
    {
     "datasetId": 5622019,
     "sourceId": 9287251,
     "sourceType": "datasetVersion"
    },
    {
     "datasetId": 5728623,
     "sourceId": 9429615,
     "sourceType": "datasetVersion"
    }
   ],
   "dockerImageVersionId": 30762,
   "isGpuEnabled": true,
   "isInternetEnabled": false,
   "language": "python",
   "sourceType": "notebook"
  },
  "kernelspec": {
   "display_name": "Python 3",
   "language": "python",
   "name": "python3"
  },
  "language_info": {
   "codemirror_mode": {
    "name": "ipython",
    "version": 3
   },
   "file_extension": ".py",
   "mimetype": "text/x-python",
   "name": "python",
   "nbconvert_exporter": "python",
   "pygments_lexer": "ipython3",
   "version": "3.10.14"
  },
  "papermill": {
   "default_parameters": {},
   "duration": 20709.519028,
   "end_time": "2024-09-19T00:13:21.166001",
   "environment_variables": {},
   "exception": null,
   "input_path": "__notebook__.ipynb",
   "output_path": "__notebook__.ipynb",
   "parameters": {},
   "start_time": "2024-09-18T18:28:11.646973",
   "version": "2.6.0"
  }
 },
 "nbformat": 4,
 "nbformat_minor": 5
}
